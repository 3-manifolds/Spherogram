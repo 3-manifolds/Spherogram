{
 "cells": [
  {
   "cell_type": "code",
   "execution_count": 19,
   "id": "0fe6a8db",
   "metadata": {},
   "outputs": [
    {
     "name": "stdout",
     "output_type": "stream",
     "text": [
      "Defining x0, x1, x2\n"
     ]
    }
   ],
   "source": [
    "G=FreeGroup(3)\n",
    "G.inject_variables()\n",
    "relations_list_test=[x0*x1*x0^(-1)*x1^(-1),x1*x2*x1^(-1)*x2^(-1)]"
   ]
  },
  {
   "cell_type": "code",
   "execution_count": 20,
   "id": "d449c253",
   "metadata": {},
   "outputs": [],
   "source": [
    "def Fox_Matrix(n,relations_list):\n",
    "    \"\"\"\n",
    "    Input: number of generators, list of relations written in x0,...,x(n-1)\n",
    "    \"\"\"\n",
    "    G=FreeGroup(n)\n",
    "    G.inject_variables()\n",
    "    fox_list=[]\n",
    "    for i in range(n):\n",
    "        for j in range(n-1):\n",
    "            fox_list.append(relations_list[j].fox_derivative(G([i+1])))\n",
    "    return fox_list"
   ]
  },
  {
   "cell_type": "code",
   "execution_count": 21,
   "id": "2686d71d",
   "metadata": {},
   "outputs": [
    {
     "name": "stdout",
     "output_type": "stream",
     "text": [
      "Defining x0, x1, x2\n"
     ]
    },
    {
     "data": {
      "text/plain": [
       "[1 - x0*x1*x0^-1,\n",
       " 0,\n",
       " x0 - x0*x1*x0^-1*x1^-1,\n",
       " 1 - x1*x2*x1^-1,\n",
       " 0,\n",
       " x1 - x1*x2*x1^-1*x2^-1]"
      ]
     },
     "execution_count": 21,
     "metadata": {},
     "output_type": "execute_result"
    }
   ],
   "source": [
    "Fox_Matrix(3,[x0*x1*x0^(-1)*x1^(-1),x1*x2*x1^(-1)*x2^(-1)])"
   ]
  },
  {
   "cell_type": "code",
   "execution_count": 13,
   "id": "9fdf8e95",
   "metadata": {},
   "outputs": [
    {
     "data": {
      "text/plain": [
       "x0"
      ]
     },
     "execution_count": 13,
     "metadata": {},
     "output_type": "execute_result"
    }
   ],
   "source": [
    "G([1])"
   ]
  },
  {
   "cell_type": "code",
   "execution_count": null,
   "id": "26c56444",
   "metadata": {},
   "outputs": [],
   "source": []
  }
 ],
 "metadata": {
  "kernelspec": {
   "display_name": "SageMath 9.6",
   "language": "sage",
   "name": "sagemath-9.6"
  },
  "language_info": {
   "codemirror_mode": {
    "name": "ipython",
    "version": 3
   },
   "file_extension": ".py",
   "mimetype": "text/x-python",
   "name": "python",
   "nbconvert_exporter": "python",
   "pygments_lexer": "ipython3",
   "version": "3.10.3"
  }
 },
 "nbformat": 4,
 "nbformat_minor": 5
}
