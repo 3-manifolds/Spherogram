{
 "cells": [
  {
   "cell_type": "code",
   "execution_count": 1,
   "id": "3ee2929b",
   "metadata": {},
   "outputs": [],
   "source": [
    "import snappy\n",
    "import spherogram\n",
    "%gui tk"
   ]
  },
  {
   "cell_type": "code",
   "execution_count": 2,
   "id": "1995956a",
   "metadata": {},
   "outputs": [
    {
     "name": "stdout",
     "output_type": "stream",
     "text": [
      "Starting the link editor.\n",
      "Select Tools->Send to SnapPy to load the link complement.\n",
      "\n",
      "New triangulation received from PLink!\n"
     ]
    }
   ],
   "source": [
    "#Import link from PLink.  Link must be an annular closure where the axis is the final component.\n",
    "\n",
    "M_test=snappy.Manifold()"
   ]
  },
  {
   "cell_type": "code",
   "execution_count": 8,
   "id": "57ebbc71",
   "metadata": {},
   "outputs": [],
   "source": [
    "def double_branched_cover(M):\n",
    "    L=M.link()\n",
    "    #later change input from M, complement of L (annular closure of T), to T itself and call annular closure function\n",
    "    num_components=len(L.link_components)\n",
    "    #assume last component is one we don't fill\n",
    "    fill_list=[(2,0)]*(num_components-1)+[(0,0)]\n",
    "    M_filled=M.copy()\n",
    "    M_filled.dehn_fill(fill_list)\n",
    "    covers_list=M_filled.covers(2)\n",
    "    good_covers_list=[]\n",
    "    #trivial_filling=True\n",
    "    for C in covers_list:\n",
    "        #print(C.cusp_info('filling'))\n",
    "        cusp_pairs=C.cusp_info('filling')\n",
    "        zero_zero_count=0\n",
    "        one_zero_count=0\n",
    "        other_count=0\n",
    "        zero_zero_indices=[]\n",
    "        \n",
    "        for i in range(len(cusp_pairs)):\n",
    "            pair=cusp_pairs[i]\n",
    "            if pair==(1,0):\n",
    "                one_zero_count+=1\n",
    "            elif pair==(0,0):\n",
    "                zero_zero_count+=1\n",
    "                zero_zero_indices.append(i)\n",
    "                \n",
    "            else:\n",
    "                other_count+=1\n",
    "        #print(cusp_pairs)\n",
    "        #print(zero_zero_count,one_zero_count,other_count)\n",
    "        if zero_zero_count==2 and one_zero_count== len(cusp_pairs)-2:\n",
    "            good_covers_list.append([C,zero_zero_indices])\n",
    "    if len(good_covers_list)>1:\n",
    "        print(\"MULTIPLE GOOD COVERS\")\n",
    "    elif len(good_covers_list)==0:\n",
    "        print(\"NO GOOD COVERS FOUND\")\n",
    "    else:\n",
    "        print(\"Unique good cover as expected\")\n",
    "        good_cover=good_covers_list[0][0]\n",
    "        good_cover_unfilled_indices=good_covers_list[0][1]\n",
    "        good_cover_fill_list_old=good_cover.cusp_info('filling')\n",
    "        good_cover_fill_list=good_cover_fill_list_old\n",
    "        good_cover_fill_list[good_cover_unfilled_indices[0]]=(1,0)                \n",
    "        good_cover.dehn_fill(good_cover_fill_list)\n",
    "        good_cover_f=good_cover.filled_triangulation()\n",
    "        \n",
    "        return(good_cover_f)"
   ]
  },
  {
   "cell_type": "code",
   "execution_count": 10,
   "id": "96e324b4",
   "metadata": {},
   "outputs": [
    {
     "name": "stdout",
     "output_type": "stream",
     "text": [
      "Unique good cover as expected\n"
     ]
    }
   ],
   "source": [
    "\n",
    "C=double_branched_cover(M_test)"
   ]
  },
  {
   "cell_type": "code",
   "execution_count": 7,
   "id": "8096de3a",
   "metadata": {},
   "outputs": [
    {
     "data": {
      "text/plain": [
       "[m004(0,0), 4_1(0,0), K2_1(0,0), K4a1(0,0), otet02_00001(0,0)]"
      ]
     },
     "execution_count": 7,
     "metadata": {},
     "output_type": "execute_result"
    }
   ],
   "source": [
    "C.identify()"
   ]
  }
 ],
 "metadata": {
  "kernelspec": {
   "display_name": "SageMath 9.4",
   "language": "sage",
   "name": "sagemath-9.4"
  },
  "language_info": {
   "codemirror_mode": {
    "name": "ipython",
    "version": 3
   },
   "file_extension": ".py",
   "mimetype": "text/x-python",
   "name": "python",
   "nbconvert_exporter": "python",
   "pygments_lexer": "ipython3",
   "version": "3.9.5"
  }
 },
 "nbformat": 4,
 "nbformat_minor": 5
}
