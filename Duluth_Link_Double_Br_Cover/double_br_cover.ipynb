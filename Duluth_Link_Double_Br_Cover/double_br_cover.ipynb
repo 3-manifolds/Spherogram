{
 "cells": [
  {
   "cell_type": "code",
   "execution_count": 20,
   "id": "3ee2929b",
   "metadata": {},
   "outputs": [],
   "source": [
    "import snappy\n",
    "import spherogram\n",
    "%gui tk"
   ]
  },
  {
   "cell_type": "code",
   "execution_count": 21,
   "id": "1995956a",
   "metadata": {},
   "outputs": [
    {
     "name": "stdout",
     "output_type": "stream",
     "text": [
      "Starting the link editor.\n",
      "Select Tools->Send to SnapPy to load the link complement.\n",
      "\n",
      "New triangulation received from PLink!\n"
     ]
    }
   ],
   "source": [
    "#Import link from PLink.  Link must be an annular closure where the axis is the final component.\n",
    "\n",
    "M_test=snappy.Manifold()"
   ]
  },
  {
   "cell_type": "code",
   "execution_count": 24,
   "id": "ce686e7d",
   "metadata": {},
   "outputs": [
    {
     "data": {
      "text/plain": [
       "3"
      ]
     },
     "execution_count": 24,
     "metadata": {},
     "output_type": "execute_result"
    }
   ],
   "source": [
    "M_test\n",
    "M_test.num_cusps()"
   ]
  },
  {
   "cell_type": "code",
   "execution_count": 35,
   "id": "57ebbc71",
   "metadata": {},
   "outputs": [],
   "source": [
    "def double_branched_cover(M):\n",
    "    \"\"\"\n",
    "    Input: Annular link complement corresponding to a (2,2) tangle T\n",
    "    Output: Double branched cover of T\n",
    "    \"\"\"\n",
    "    \n",
    "    #later change input from M, link exterior (annular closure of T), to T itself and call annular closure function\n",
    "    num_components=M.num_cusps()\n",
    "    \n",
    "    #assume last component is one we don't fill\n",
    "    fill_list=[(2,0)]*(num_components-1)+[(0,0)]\n",
    "    \n",
    "    \n",
    "    M.dehn_fill(fill_list)\n",
    "    covers_list=M.covers(2)\n",
    "    \n",
    "    #Look for cover with 2 unfilled components and all others with filling (1,0)\n",
    "    good_covers_list=[]\n",
    "    \n",
    "    for C in covers_list:\n",
    "        \n",
    "        cusp_pairs=C.cusp_info('filling')\n",
    "        \n",
    "        #number of (0,0) cusps\n",
    "        zero_zero_count=0\n",
    "        #number of (1,0) cusps\n",
    "        one_zero_count=0\n",
    "        \n",
    "        #list of indices where (0,0) cusps occur\n",
    "        zero_zero_indices=[]\n",
    "        \n",
    "        for i in range(len(cusp_pairs)):\n",
    "            pair=cusp_pairs[i]\n",
    "            if pair == (1,0):\n",
    "                one_zero_count+=1\n",
    "            elif pair == (0,0):\n",
    "                zero_zero_count+=1\n",
    "                zero_zero_indices.append(i)\n",
    "                \n",
    "            \n",
    "        if zero_zero_count == 2 and one_zero_count == len(cusp_pairs)-2:\n",
    "            good_covers_list.append([C,zero_zero_indices])\n",
    "            \n",
    "    if len(good_covers_list)>1:\n",
    "        raise Exception(\"MULTIPLE GOOD COVERS\")\n",
    "    elif len(good_covers_list)==0:\n",
    "        raise Exception(\"NO GOOD COVERS FOUND\")\n",
    "    else:\n",
    "        \n",
    "        #cover with two (0,0) cusps and other cusps (1,0)\n",
    "        good_cover=good_covers_list[0][0]\n",
    "        \n",
    "        #location of (0,0) cusps of the good cover\n",
    "        good_cover_unfilled_indices=good_covers_list[0][1]\n",
    "        \n",
    "        #fill one of the unfilled cusps to get double branched cover of the tangle \n",
    "        good_cover.dehn_fill((1,0),good_cover_unfilled_indices[0])\n",
    "        \n",
    "        #retriangulate as a one-cusped manifold\n",
    "        good_cover_f=good_cover.filled_triangulation()\n",
    "        \n",
    "        return(good_cover_f)"
   ]
  },
  {
   "cell_type": "code",
   "execution_count": 36,
   "id": "96e324b4",
   "metadata": {},
   "outputs": [
    {
     "data": {
      "text/plain": [
       "[m004(0,0), 4_1(0,0), K2_1(0,0), K4a1(0,0), otet02_00001(0,0)]"
      ]
     },
     "execution_count": 36,
     "metadata": {},
     "output_type": "execute_result"
    }
   ],
   "source": [
    "\n",
    "C=double_branched_cover(M_test)\n",
    "C.identify()"
   ]
  },
  {
   "cell_type": "code",
   "execution_count": null,
   "id": "ff84d0dd",
   "metadata": {},
   "outputs": [],
   "source": []
  }
 ],
 "metadata": {
  "kernelspec": {
   "display_name": "SageMath 9.4",
   "language": "sage",
   "name": "sagemath-9.4"
  },
  "language_info": {
   "codemirror_mode": {
    "name": "ipython",
    "version": 3
   },
   "file_extension": ".py",
   "mimetype": "text/x-python",
   "name": "python",
   "nbconvert_exporter": "python",
   "pygments_lexer": "ipython3",
   "version": "3.9.5"
  }
 },
 "nbformat": 4,
 "nbformat_minor": 5
}
